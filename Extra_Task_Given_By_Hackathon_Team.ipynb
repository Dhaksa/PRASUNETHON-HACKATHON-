{
  "nbformat": 4,
  "nbformat_minor": 0,
  "metadata": {
    "colab": {
      "provenance": [],
      "gpuType": "T4"
    },
    "kernelspec": {
      "name": "python3",
      "display_name": "Python 3"
    },
    "language_info": {
      "name": "python"
    },
    "accelerator": "GPU"
  },
  "cells": [
    {
      "cell_type": "markdown",
      "source": [
        "Predictive modelling using Decision tree regressor\n"
      ],
      "metadata": {
        "id": "tE6C3Zzj23zq"
      }
    },
    {
      "cell_type": "code",
      "execution_count": 1,
      "metadata": {
        "id": "epdRQDKfi-9H"
      },
      "outputs": [],
      "source": [
        "import pandas as pd"
      ]
    },
    {
      "cell_type": "code",
      "source": [
        "raw_file_url = 'https://raw.githubusercontent.com/Dhaksa/PRASUNETHON-HACKATHON-/main/games_weather.csv'\n",
        "data=pd.read_csv(raw_file_url)"
      ],
      "metadata": {
        "id": "ufqe9WAEpbco"
      },
      "execution_count": 4,
      "outputs": []
    },
    {
      "cell_type": "code",
      "source": [
        "data.head()"
      ],
      "metadata": {
        "colab": {
          "base_uri": "https://localhost:8080/",
          "height": 206
        },
        "id": "HCDC1Rj7pkIG",
        "outputId": "081c2fe0-a9e9-4c40-ea8f-b46740f0c165"
      },
      "execution_count": 5,
      "outputs": [
        {
          "output_type": "execute_result",
          "data": {
            "text/plain": [
              "      game_id     Source  DistanceToStation     TimeMeasure  Temperature  \\\n",
              "0  2000090300  Meteostat               3.79  9/3/2000 12:00        80.96   \n",
              "1  2000090300  Meteostat               3.79  9/3/2000 13:00        80.96   \n",
              "2  2000090300  Meteostat               3.79  9/3/2000 14:00        82.94   \n",
              "3  2000090300  Meteostat               3.79  9/3/2000 15:00        80.06   \n",
              "4  2000090300  Meteostat               3.79  9/3/2000 16:00        75.02   \n",
              "\n",
              "   DewPoint  Humidity  Precipitation  WindSpeed  WindDirection  Pressure  \\\n",
              "0     73.04      77.0          0.000       3.36          200.0   29.8902   \n",
              "1     73.04      77.0          0.000       5.84          300.0   29.8784   \n",
              "2     73.04      72.0          0.000       5.84          260.0   29.8696   \n",
              "3     74.12      82.0          0.000       3.36          180.0   29.8578   \n",
              "4     75.02     100.0          0.728       4.72          280.0   29.8519   \n",
              "\n",
              "  EstimatedCondition  \n",
              "0              Clear  \n",
              "1              Clear  \n",
              "2              Clear  \n",
              "3              Clear  \n",
              "4         Heavy Rain  "
            ],
            "text/html": [
              "\n",
              "  <div id=\"df-a0a53824-164c-453b-a7fa-02cce1e55a20\" class=\"colab-df-container\">\n",
              "    <div>\n",
              "<style scoped>\n",
              "    .dataframe tbody tr th:only-of-type {\n",
              "        vertical-align: middle;\n",
              "    }\n",
              "\n",
              "    .dataframe tbody tr th {\n",
              "        vertical-align: top;\n",
              "    }\n",
              "\n",
              "    .dataframe thead th {\n",
              "        text-align: right;\n",
              "    }\n",
              "</style>\n",
              "<table border=\"1\" class=\"dataframe\">\n",
              "  <thead>\n",
              "    <tr style=\"text-align: right;\">\n",
              "      <th></th>\n",
              "      <th>game_id</th>\n",
              "      <th>Source</th>\n",
              "      <th>DistanceToStation</th>\n",
              "      <th>TimeMeasure</th>\n",
              "      <th>Temperature</th>\n",
              "      <th>DewPoint</th>\n",
              "      <th>Humidity</th>\n",
              "      <th>Precipitation</th>\n",
              "      <th>WindSpeed</th>\n",
              "      <th>WindDirection</th>\n",
              "      <th>Pressure</th>\n",
              "      <th>EstimatedCondition</th>\n",
              "    </tr>\n",
              "  </thead>\n",
              "  <tbody>\n",
              "    <tr>\n",
              "      <th>0</th>\n",
              "      <td>2000090300</td>\n",
              "      <td>Meteostat</td>\n",
              "      <td>3.79</td>\n",
              "      <td>9/3/2000 12:00</td>\n",
              "      <td>80.96</td>\n",
              "      <td>73.04</td>\n",
              "      <td>77.0</td>\n",
              "      <td>0.000</td>\n",
              "      <td>3.36</td>\n",
              "      <td>200.0</td>\n",
              "      <td>29.8902</td>\n",
              "      <td>Clear</td>\n",
              "    </tr>\n",
              "    <tr>\n",
              "      <th>1</th>\n",
              "      <td>2000090300</td>\n",
              "      <td>Meteostat</td>\n",
              "      <td>3.79</td>\n",
              "      <td>9/3/2000 13:00</td>\n",
              "      <td>80.96</td>\n",
              "      <td>73.04</td>\n",
              "      <td>77.0</td>\n",
              "      <td>0.000</td>\n",
              "      <td>5.84</td>\n",
              "      <td>300.0</td>\n",
              "      <td>29.8784</td>\n",
              "      <td>Clear</td>\n",
              "    </tr>\n",
              "    <tr>\n",
              "      <th>2</th>\n",
              "      <td>2000090300</td>\n",
              "      <td>Meteostat</td>\n",
              "      <td>3.79</td>\n",
              "      <td>9/3/2000 14:00</td>\n",
              "      <td>82.94</td>\n",
              "      <td>73.04</td>\n",
              "      <td>72.0</td>\n",
              "      <td>0.000</td>\n",
              "      <td>5.84</td>\n",
              "      <td>260.0</td>\n",
              "      <td>29.8696</td>\n",
              "      <td>Clear</td>\n",
              "    </tr>\n",
              "    <tr>\n",
              "      <th>3</th>\n",
              "      <td>2000090300</td>\n",
              "      <td>Meteostat</td>\n",
              "      <td>3.79</td>\n",
              "      <td>9/3/2000 15:00</td>\n",
              "      <td>80.06</td>\n",
              "      <td>74.12</td>\n",
              "      <td>82.0</td>\n",
              "      <td>0.000</td>\n",
              "      <td>3.36</td>\n",
              "      <td>180.0</td>\n",
              "      <td>29.8578</td>\n",
              "      <td>Clear</td>\n",
              "    </tr>\n",
              "    <tr>\n",
              "      <th>4</th>\n",
              "      <td>2000090300</td>\n",
              "      <td>Meteostat</td>\n",
              "      <td>3.79</td>\n",
              "      <td>9/3/2000 16:00</td>\n",
              "      <td>75.02</td>\n",
              "      <td>75.02</td>\n",
              "      <td>100.0</td>\n",
              "      <td>0.728</td>\n",
              "      <td>4.72</td>\n",
              "      <td>280.0</td>\n",
              "      <td>29.8519</td>\n",
              "      <td>Heavy Rain</td>\n",
              "    </tr>\n",
              "  </tbody>\n",
              "</table>\n",
              "</div>\n",
              "    <div class=\"colab-df-buttons\">\n",
              "\n",
              "  <div class=\"colab-df-container\">\n",
              "    <button class=\"colab-df-convert\" onclick=\"convertToInteractive('df-a0a53824-164c-453b-a7fa-02cce1e55a20')\"\n",
              "            title=\"Convert this dataframe to an interactive table.\"\n",
              "            style=\"display:none;\">\n",
              "\n",
              "  <svg xmlns=\"http://www.w3.org/2000/svg\" height=\"24px\" viewBox=\"0 -960 960 960\">\n",
              "    <path d=\"M120-120v-720h720v720H120Zm60-500h600v-160H180v160Zm220 220h160v-160H400v160Zm0 220h160v-160H400v160ZM180-400h160v-160H180v160Zm440 0h160v-160H620v160ZM180-180h160v-160H180v160Zm440 0h160v-160H620v160Z\"/>\n",
              "  </svg>\n",
              "    </button>\n",
              "\n",
              "  <style>\n",
              "    .colab-df-container {\n",
              "      display:flex;\n",
              "      gap: 12px;\n",
              "    }\n",
              "\n",
              "    .colab-df-convert {\n",
              "      background-color: #E8F0FE;\n",
              "      border: none;\n",
              "      border-radius: 50%;\n",
              "      cursor: pointer;\n",
              "      display: none;\n",
              "      fill: #1967D2;\n",
              "      height: 32px;\n",
              "      padding: 0 0 0 0;\n",
              "      width: 32px;\n",
              "    }\n",
              "\n",
              "    .colab-df-convert:hover {\n",
              "      background-color: #E2EBFA;\n",
              "      box-shadow: 0px 1px 2px rgba(60, 64, 67, 0.3), 0px 1px 3px 1px rgba(60, 64, 67, 0.15);\n",
              "      fill: #174EA6;\n",
              "    }\n",
              "\n",
              "    .colab-df-buttons div {\n",
              "      margin-bottom: 4px;\n",
              "    }\n",
              "\n",
              "    [theme=dark] .colab-df-convert {\n",
              "      background-color: #3B4455;\n",
              "      fill: #D2E3FC;\n",
              "    }\n",
              "\n",
              "    [theme=dark] .colab-df-convert:hover {\n",
              "      background-color: #434B5C;\n",
              "      box-shadow: 0px 1px 3px 1px rgba(0, 0, 0, 0.15);\n",
              "      filter: drop-shadow(0px 1px 2px rgba(0, 0, 0, 0.3));\n",
              "      fill: #FFFFFF;\n",
              "    }\n",
              "  </style>\n",
              "\n",
              "    <script>\n",
              "      const buttonEl =\n",
              "        document.querySelector('#df-a0a53824-164c-453b-a7fa-02cce1e55a20 button.colab-df-convert');\n",
              "      buttonEl.style.display =\n",
              "        google.colab.kernel.accessAllowed ? 'block' : 'none';\n",
              "\n",
              "      async function convertToInteractive(key) {\n",
              "        const element = document.querySelector('#df-a0a53824-164c-453b-a7fa-02cce1e55a20');\n",
              "        const dataTable =\n",
              "          await google.colab.kernel.invokeFunction('convertToInteractive',\n",
              "                                                    [key], {});\n",
              "        if (!dataTable) return;\n",
              "\n",
              "        const docLinkHtml = 'Like what you see? Visit the ' +\n",
              "          '<a target=\"_blank\" href=https://colab.research.google.com/notebooks/data_table.ipynb>data table notebook</a>'\n",
              "          + ' to learn more about interactive tables.';\n",
              "        element.innerHTML = '';\n",
              "        dataTable['output_type'] = 'display_data';\n",
              "        await google.colab.output.renderOutput(dataTable, element);\n",
              "        const docLink = document.createElement('div');\n",
              "        docLink.innerHTML = docLinkHtml;\n",
              "        element.appendChild(docLink);\n",
              "      }\n",
              "    </script>\n",
              "  </div>\n",
              "\n",
              "\n",
              "<div id=\"df-da6f47ad-8088-4a4f-b3e6-3ef965231d5b\">\n",
              "  <button class=\"colab-df-quickchart\" onclick=\"quickchart('df-da6f47ad-8088-4a4f-b3e6-3ef965231d5b')\"\n",
              "            title=\"Suggest charts\"\n",
              "            style=\"display:none;\">\n",
              "\n",
              "<svg xmlns=\"http://www.w3.org/2000/svg\" height=\"24px\"viewBox=\"0 0 24 24\"\n",
              "     width=\"24px\">\n",
              "    <g>\n",
              "        <path d=\"M19 3H5c-1.1 0-2 .9-2 2v14c0 1.1.9 2 2 2h14c1.1 0 2-.9 2-2V5c0-1.1-.9-2-2-2zM9 17H7v-7h2v7zm4 0h-2V7h2v10zm4 0h-2v-4h2v4z\"/>\n",
              "    </g>\n",
              "</svg>\n",
              "  </button>\n",
              "\n",
              "<style>\n",
              "  .colab-df-quickchart {\n",
              "      --bg-color: #E8F0FE;\n",
              "      --fill-color: #1967D2;\n",
              "      --hover-bg-color: #E2EBFA;\n",
              "      --hover-fill-color: #174EA6;\n",
              "      --disabled-fill-color: #AAA;\n",
              "      --disabled-bg-color: #DDD;\n",
              "  }\n",
              "\n",
              "  [theme=dark] .colab-df-quickchart {\n",
              "      --bg-color: #3B4455;\n",
              "      --fill-color: #D2E3FC;\n",
              "      --hover-bg-color: #434B5C;\n",
              "      --hover-fill-color: #FFFFFF;\n",
              "      --disabled-bg-color: #3B4455;\n",
              "      --disabled-fill-color: #666;\n",
              "  }\n",
              "\n",
              "  .colab-df-quickchart {\n",
              "    background-color: var(--bg-color);\n",
              "    border: none;\n",
              "    border-radius: 50%;\n",
              "    cursor: pointer;\n",
              "    display: none;\n",
              "    fill: var(--fill-color);\n",
              "    height: 32px;\n",
              "    padding: 0;\n",
              "    width: 32px;\n",
              "  }\n",
              "\n",
              "  .colab-df-quickchart:hover {\n",
              "    background-color: var(--hover-bg-color);\n",
              "    box-shadow: 0 1px 2px rgba(60, 64, 67, 0.3), 0 1px 3px 1px rgba(60, 64, 67, 0.15);\n",
              "    fill: var(--button-hover-fill-color);\n",
              "  }\n",
              "\n",
              "  .colab-df-quickchart-complete:disabled,\n",
              "  .colab-df-quickchart-complete:disabled:hover {\n",
              "    background-color: var(--disabled-bg-color);\n",
              "    fill: var(--disabled-fill-color);\n",
              "    box-shadow: none;\n",
              "  }\n",
              "\n",
              "  .colab-df-spinner {\n",
              "    border: 2px solid var(--fill-color);\n",
              "    border-color: transparent;\n",
              "    border-bottom-color: var(--fill-color);\n",
              "    animation:\n",
              "      spin 1s steps(1) infinite;\n",
              "  }\n",
              "\n",
              "  @keyframes spin {\n",
              "    0% {\n",
              "      border-color: transparent;\n",
              "      border-bottom-color: var(--fill-color);\n",
              "      border-left-color: var(--fill-color);\n",
              "    }\n",
              "    20% {\n",
              "      border-color: transparent;\n",
              "      border-left-color: var(--fill-color);\n",
              "      border-top-color: var(--fill-color);\n",
              "    }\n",
              "    30% {\n",
              "      border-color: transparent;\n",
              "      border-left-color: var(--fill-color);\n",
              "      border-top-color: var(--fill-color);\n",
              "      border-right-color: var(--fill-color);\n",
              "    }\n",
              "    40% {\n",
              "      border-color: transparent;\n",
              "      border-right-color: var(--fill-color);\n",
              "      border-top-color: var(--fill-color);\n",
              "    }\n",
              "    60% {\n",
              "      border-color: transparent;\n",
              "      border-right-color: var(--fill-color);\n",
              "    }\n",
              "    80% {\n",
              "      border-color: transparent;\n",
              "      border-right-color: var(--fill-color);\n",
              "      border-bottom-color: var(--fill-color);\n",
              "    }\n",
              "    90% {\n",
              "      border-color: transparent;\n",
              "      border-bottom-color: var(--fill-color);\n",
              "    }\n",
              "  }\n",
              "</style>\n",
              "\n",
              "  <script>\n",
              "    async function quickchart(key) {\n",
              "      const quickchartButtonEl =\n",
              "        document.querySelector('#' + key + ' button');\n",
              "      quickchartButtonEl.disabled = true;  // To prevent multiple clicks.\n",
              "      quickchartButtonEl.classList.add('colab-df-spinner');\n",
              "      try {\n",
              "        const charts = await google.colab.kernel.invokeFunction(\n",
              "            'suggestCharts', [key], {});\n",
              "      } catch (error) {\n",
              "        console.error('Error during call to suggestCharts:', error);\n",
              "      }\n",
              "      quickchartButtonEl.classList.remove('colab-df-spinner');\n",
              "      quickchartButtonEl.classList.add('colab-df-quickchart-complete');\n",
              "    }\n",
              "    (() => {\n",
              "      let quickchartButtonEl =\n",
              "        document.querySelector('#df-da6f47ad-8088-4a4f-b3e6-3ef965231d5b button');\n",
              "      quickchartButtonEl.style.display =\n",
              "        google.colab.kernel.accessAllowed ? 'block' : 'none';\n",
              "    })();\n",
              "  </script>\n",
              "</div>\n",
              "\n",
              "    </div>\n",
              "  </div>\n"
            ],
            "application/vnd.google.colaboratory.intrinsic+json": {
              "type": "dataframe",
              "variable_name": "data",
              "summary": "{\n  \"name\": \"data\",\n  \"rows\": 37155,\n  \"fields\": [\n    {\n      \"column\": \"game_id\",\n      \"properties\": {\n        \"dtype\": \"number\",\n        \"std\": 6110862,\n        \"min\": 2000090300,\n        \"max\": 2021020700,\n        \"num_unique_values\": 5583,\n        \"samples\": [\n          2014102605,\n          2018123004,\n          2000100807\n        ],\n        \"semantic_type\": \"\",\n        \"description\": \"\"\n      }\n    },\n    {\n      \"column\": \"Source\",\n      \"properties\": {\n        \"dtype\": \"category\",\n        \"num_unique_values\": 2,\n        \"samples\": [\n          \"Weather Underground\",\n          \"Meteostat\"\n        ],\n        \"semantic_type\": \"\",\n        \"description\": \"\"\n      }\n    },\n    {\n      \"column\": \"DistanceToStation\",\n      \"properties\": {\n        \"dtype\": \"number\",\n        \"std\": 5.807598440383719,\n        \"min\": 0.19,\n        \"max\": 31.01,\n        \"num_unique_values\": 121,\n        \"samples\": [\n          3.98,\n          4.6\n        ],\n        \"semantic_type\": \"\",\n        \"description\": \"\"\n      }\n    },\n    {\n      \"column\": \"TimeMeasure\",\n      \"properties\": {\n        \"dtype\": \"object\",\n        \"num_unique_values\": 11338,\n        \"samples\": [\n          \"9/7/2003 15:00\",\n          \"10/15/2001 23:00\"\n        ],\n        \"semantic_type\": \"\",\n        \"description\": \"\"\n      }\n    },\n    {\n      \"column\": \"Temperature\",\n      \"properties\": {\n        \"dtype\": \"number\",\n        \"std\": 17.803626288594486,\n        \"min\": -13.0,\n        \"max\": 109.04,\n        \"num_unique_values\": 564,\n        \"samples\": [\n          21.74,\n          90.14\n        ],\n        \"semantic_type\": \"\",\n        \"description\": \"\"\n      }\n    },\n    {\n      \"column\": \"DewPoint\",\n      \"properties\": {\n        \"dtype\": \"number\",\n        \"std\": 17.128845218782764,\n        \"min\": -23.98,\n        \"max\": 80.42,\n        \"num_unique_values\": 560,\n        \"samples\": [\n          -1.66,\n          71.6\n        ],\n        \"semantic_type\": \"\",\n        \"description\": \"\"\n      }\n    },\n    {\n      \"column\": \"Humidity\",\n      \"properties\": {\n        \"dtype\": \"number\",\n        \"std\": 20.146157951277434,\n        \"min\": 3.0,\n        \"max\": 100.0,\n        \"num_unique_values\": 99,\n        \"samples\": [\n          38.0,\n          14.0\n        ],\n        \"semantic_type\": \"\",\n        \"description\": \"\"\n      }\n    },\n    {\n      \"column\": \"Precipitation\",\n      \"properties\": {\n        \"dtype\": \"number\",\n        \"std\": 0.06149185402401248,\n        \"min\": 0.0,\n        \"max\": 9.988,\n        \"num_unique_values\": 94,\n        \"samples\": [\n          0.319,\n          0.11\n        ],\n        \"semantic_type\": \"\",\n        \"description\": \"\"\n      }\n    },\n    {\n      \"column\": \"WindSpeed\",\n      \"properties\": {\n        \"dtype\": \"number\",\n        \"std\": 5.325753900986654,\n        \"min\": 0.0,\n        \"max\": 43.87,\n        \"num_unique_values\": 219,\n        \"samples\": [\n          13.2,\n          15.53\n        ],\n        \"semantic_type\": \"\",\n        \"description\": \"\"\n      }\n    },\n    {\n      \"column\": \"WindDirection\",\n      \"properties\": {\n        \"dtype\": \"number\",\n        \"std\": 100.54766370530783,\n        \"min\": 0.0,\n        \"max\": 359.0,\n        \"num_unique_values\": 326,\n        \"samples\": [\n          246.0,\n          99.0\n        ],\n        \"semantic_type\": \"\",\n        \"description\": \"\"\n      }\n    },\n    {\n      \"column\": \"Pressure\",\n      \"properties\": {\n        \"dtype\": \"number\",\n        \"std\": 0.3107618488995446,\n        \"min\": 24.05,\n        \"max\": 30.8529,\n        \"num_unique_values\": 1030,\n        \"samples\": [\n          29.8489,\n          30.1944\n        ],\n        \"semantic_type\": \"\",\n        \"description\": \"\"\n      }\n    },\n    {\n      \"column\": \"EstimatedCondition\",\n      \"properties\": {\n        \"dtype\": \"category\",\n        \"num_unique_values\": 6,\n        \"samples\": [\n          \"Clear\",\n          \"Heavy Rain\"\n        ],\n        \"semantic_type\": \"\",\n        \"description\": \"\"\n      }\n    }\n  ]\n}"
            }
          },
          "metadata": {},
          "execution_count": 5
        }
      ]
    },
    {
      "cell_type": "code",
      "source": [
        "data.columns"
      ],
      "metadata": {
        "colab": {
          "base_uri": "https://localhost:8080/"
        },
        "id": "PAPn8GO0pms2",
        "outputId": "c2161c0b-4aa1-4c5d-9200-5b85d7eb476c"
      },
      "execution_count": null,
      "outputs": [
        {
          "output_type": "execute_result",
          "data": {
            "text/plain": [
              "Index(['game_id', 'Source', 'DistanceToStation', 'TimeMeasure', 'Temperature',\n",
              "       'DewPoint', 'Humidity', 'Precipitation', 'WindSpeed', 'WindDirection',\n",
              "       'Pressure', 'EstimatedCondition'],\n",
              "      dtype='object')"
            ]
          },
          "metadata": {},
          "execution_count": 4
        }
      ]
    },
    {
      "cell_type": "code",
      "source": [
        "import missingno as msno\n",
        "data.isnull().sum()"
      ],
      "metadata": {
        "colab": {
          "base_uri": "https://localhost:8080/"
        },
        "id": "M0xRBiwtppUM",
        "outputId": "c454aa64-8b6d-4ea0-a6c9-5423ff7d3e44"
      },
      "execution_count": null,
      "outputs": [
        {
          "output_type": "execute_result",
          "data": {
            "text/plain": [
              "game_id                  0\n",
              "Source                   0\n",
              "DistanceToStation     1643\n",
              "TimeMeasure              0\n",
              "Temperature              1\n",
              "DewPoint                 1\n",
              "Humidity                 1\n",
              "Precipitation         2568\n",
              "WindSpeed                1\n",
              "WindDirection         4771\n",
              "Pressure                21\n",
              "EstimatedCondition    2568\n",
              "dtype: int64"
            ]
          },
          "metadata": {},
          "execution_count": 5
        }
      ]
    },
    {
      "cell_type": "code",
      "source": [
        "\n",
        "data.select_dtypes(include=(['int64','float64'])).isna().sum()\n",
        "df_num_col=data.select_dtypes(include=(['int64','float64'])).columns\n",
        "for c in df_num_col:\n",
        "  data[c].fillna(data[c].mean(),inplace=True)\n",
        "data.select_dtypes(include=(['int64','float64'])).isna().sum()"
      ],
      "metadata": {
        "colab": {
          "base_uri": "https://localhost:8080/"
        },
        "id": "AbONgB_8pt7N",
        "outputId": "53172f4c-4103-403b-c919-e8e45bcef84c"
      },
      "execution_count": null,
      "outputs": [
        {
          "output_type": "execute_result",
          "data": {
            "text/plain": [
              "game_id              0\n",
              "DistanceToStation    0\n",
              "Temperature          0\n",
              "DewPoint             0\n",
              "Humidity             0\n",
              "Precipitation        0\n",
              "WindSpeed            0\n",
              "WindDirection        0\n",
              "Pressure             0\n",
              "dtype: int64"
            ]
          },
          "metadata": {},
          "execution_count": 6
        }
      ]
    },
    {
      "cell_type": "code",
      "source": [
        "data.select_dtypes(include=(['object'])).isna().sum()\n",
        "df_num_col=data.select_dtypes(include=(['object'])).columns\n",
        "for c in df_num_col:\n",
        "  data[c].fillna(data[c].mode().values[0],inplace=True)\n",
        "data.select_dtypes(include=(['object'])).isna().sum()"
      ],
      "metadata": {
        "colab": {
          "base_uri": "https://localhost:8080/"
        },
        "id": "qUW_2Q9np_aN",
        "outputId": "4923d99d-d6cb-4214-a699-54b794910cc1"
      },
      "execution_count": null,
      "outputs": [
        {
          "output_type": "execute_result",
          "data": {
            "text/plain": [
              "Source                0\n",
              "TimeMeasure           0\n",
              "EstimatedCondition    0\n",
              "dtype: int64"
            ]
          },
          "metadata": {},
          "execution_count": 7
        }
      ]
    },
    {
      "cell_type": "code",
      "source": [
        "data.dtypes"
      ],
      "metadata": {
        "colab": {
          "base_uri": "https://localhost:8080/"
        },
        "id": "cimeVECtqG6X",
        "outputId": "1fdd0611-1eb4-4c2b-c890-5e32fbe35e0a"
      },
      "execution_count": null,
      "outputs": [
        {
          "output_type": "execute_result",
          "data": {
            "text/plain": [
              "game_id                 int64\n",
              "Source                 object\n",
              "DistanceToStation     float64\n",
              "TimeMeasure            object\n",
              "Temperature           float64\n",
              "DewPoint              float64\n",
              "Humidity              float64\n",
              "Precipitation         float64\n",
              "WindSpeed             float64\n",
              "WindDirection         float64\n",
              "Pressure              float64\n",
              "EstimatedCondition     object\n",
              "dtype: object"
            ]
          },
          "metadata": {},
          "execution_count": 8
        }
      ]
    },
    {
      "cell_type": "code",
      "source": [
        "from sklearn.preprocessing import LabelEncoder\n",
        "label_encoder = LabelEncoder()\n",
        "data['Source'] = label_encoder.fit_transform(data['Source'])\n",
        "data['EstimatedCondition'] = label_encoder.fit_transform(data['EstimatedCondition'])\n"
      ],
      "metadata": {
        "id": "ruumx132qODM"
      },
      "execution_count": null,
      "outputs": []
    },
    {
      "cell_type": "code",
      "source": [
        "data.head()"
      ],
      "metadata": {
        "colab": {
          "base_uri": "https://localhost:8080/",
          "height": 206
        },
        "id": "aqFSw6bPqnAR",
        "outputId": "0fe29a45-5319-4544-a6a9-a2a6bf8af29d"
      },
      "execution_count": null,
      "outputs": [
        {
          "output_type": "execute_result",
          "data": {
            "text/plain": [
              "      game_id  Source  DistanceToStation     TimeMeasure  Temperature  \\\n",
              "0  2000090300       0               3.79  9/3/2000 12:00        80.96   \n",
              "1  2000090300       0               3.79  9/3/2000 13:00        80.96   \n",
              "2  2000090300       0               3.79  9/3/2000 14:00        82.94   \n",
              "3  2000090300       0               3.79  9/3/2000 15:00        80.06   \n",
              "4  2000090300       0               3.79  9/3/2000 16:00        75.02   \n",
              "\n",
              "   DewPoint  Humidity  Precipitation  WindSpeed  WindDirection  Pressure  \\\n",
              "0     73.04      77.0          0.000       3.36          200.0   29.8902   \n",
              "1     73.04      77.0          0.000       5.84          300.0   29.8784   \n",
              "2     73.04      72.0          0.000       5.84          260.0   29.8696   \n",
              "3     74.12      82.0          0.000       3.36          180.0   29.8578   \n",
              "4     75.02     100.0          0.728       4.72          280.0   29.8519   \n",
              "\n",
              "   EstimatedCondition  \n",
              "0                   0  \n",
              "1                   0  \n",
              "2                   0  \n",
              "3                   0  \n",
              "4                   1  "
            ],
            "text/html": [
              "\n",
              "  <div id=\"df-a2a1fec8-fda5-4c3a-b4d3-23cc4cff1b49\" class=\"colab-df-container\">\n",
              "    <div>\n",
              "<style scoped>\n",
              "    .dataframe tbody tr th:only-of-type {\n",
              "        vertical-align: middle;\n",
              "    }\n",
              "\n",
              "    .dataframe tbody tr th {\n",
              "        vertical-align: top;\n",
              "    }\n",
              "\n",
              "    .dataframe thead th {\n",
              "        text-align: right;\n",
              "    }\n",
              "</style>\n",
              "<table border=\"1\" class=\"dataframe\">\n",
              "  <thead>\n",
              "    <tr style=\"text-align: right;\">\n",
              "      <th></th>\n",
              "      <th>game_id</th>\n",
              "      <th>Source</th>\n",
              "      <th>DistanceToStation</th>\n",
              "      <th>TimeMeasure</th>\n",
              "      <th>Temperature</th>\n",
              "      <th>DewPoint</th>\n",
              "      <th>Humidity</th>\n",
              "      <th>Precipitation</th>\n",
              "      <th>WindSpeed</th>\n",
              "      <th>WindDirection</th>\n",
              "      <th>Pressure</th>\n",
              "      <th>EstimatedCondition</th>\n",
              "    </tr>\n",
              "  </thead>\n",
              "  <tbody>\n",
              "    <tr>\n",
              "      <th>0</th>\n",
              "      <td>2000090300</td>\n",
              "      <td>0</td>\n",
              "      <td>3.79</td>\n",
              "      <td>9/3/2000 12:00</td>\n",
              "      <td>80.96</td>\n",
              "      <td>73.04</td>\n",
              "      <td>77.0</td>\n",
              "      <td>0.000</td>\n",
              "      <td>3.36</td>\n",
              "      <td>200.0</td>\n",
              "      <td>29.8902</td>\n",
              "      <td>0</td>\n",
              "    </tr>\n",
              "    <tr>\n",
              "      <th>1</th>\n",
              "      <td>2000090300</td>\n",
              "      <td>0</td>\n",
              "      <td>3.79</td>\n",
              "      <td>9/3/2000 13:00</td>\n",
              "      <td>80.96</td>\n",
              "      <td>73.04</td>\n",
              "      <td>77.0</td>\n",
              "      <td>0.000</td>\n",
              "      <td>5.84</td>\n",
              "      <td>300.0</td>\n",
              "      <td>29.8784</td>\n",
              "      <td>0</td>\n",
              "    </tr>\n",
              "    <tr>\n",
              "      <th>2</th>\n",
              "      <td>2000090300</td>\n",
              "      <td>0</td>\n",
              "      <td>3.79</td>\n",
              "      <td>9/3/2000 14:00</td>\n",
              "      <td>82.94</td>\n",
              "      <td>73.04</td>\n",
              "      <td>72.0</td>\n",
              "      <td>0.000</td>\n",
              "      <td>5.84</td>\n",
              "      <td>260.0</td>\n",
              "      <td>29.8696</td>\n",
              "      <td>0</td>\n",
              "    </tr>\n",
              "    <tr>\n",
              "      <th>3</th>\n",
              "      <td>2000090300</td>\n",
              "      <td>0</td>\n",
              "      <td>3.79</td>\n",
              "      <td>9/3/2000 15:00</td>\n",
              "      <td>80.06</td>\n",
              "      <td>74.12</td>\n",
              "      <td>82.0</td>\n",
              "      <td>0.000</td>\n",
              "      <td>3.36</td>\n",
              "      <td>180.0</td>\n",
              "      <td>29.8578</td>\n",
              "      <td>0</td>\n",
              "    </tr>\n",
              "    <tr>\n",
              "      <th>4</th>\n",
              "      <td>2000090300</td>\n",
              "      <td>0</td>\n",
              "      <td>3.79</td>\n",
              "      <td>9/3/2000 16:00</td>\n",
              "      <td>75.02</td>\n",
              "      <td>75.02</td>\n",
              "      <td>100.0</td>\n",
              "      <td>0.728</td>\n",
              "      <td>4.72</td>\n",
              "      <td>280.0</td>\n",
              "      <td>29.8519</td>\n",
              "      <td>1</td>\n",
              "    </tr>\n",
              "  </tbody>\n",
              "</table>\n",
              "</div>\n",
              "    <div class=\"colab-df-buttons\">\n",
              "\n",
              "  <div class=\"colab-df-container\">\n",
              "    <button class=\"colab-df-convert\" onclick=\"convertToInteractive('df-a2a1fec8-fda5-4c3a-b4d3-23cc4cff1b49')\"\n",
              "            title=\"Convert this dataframe to an interactive table.\"\n",
              "            style=\"display:none;\">\n",
              "\n",
              "  <svg xmlns=\"http://www.w3.org/2000/svg\" height=\"24px\" viewBox=\"0 -960 960 960\">\n",
              "    <path d=\"M120-120v-720h720v720H120Zm60-500h600v-160H180v160Zm220 220h160v-160H400v160Zm0 220h160v-160H400v160ZM180-400h160v-160H180v160Zm440 0h160v-160H620v160ZM180-180h160v-160H180v160Zm440 0h160v-160H620v160Z\"/>\n",
              "  </svg>\n",
              "    </button>\n",
              "\n",
              "  <style>\n",
              "    .colab-df-container {\n",
              "      display:flex;\n",
              "      gap: 12px;\n",
              "    }\n",
              "\n",
              "    .colab-df-convert {\n",
              "      background-color: #E8F0FE;\n",
              "      border: none;\n",
              "      border-radius: 50%;\n",
              "      cursor: pointer;\n",
              "      display: none;\n",
              "      fill: #1967D2;\n",
              "      height: 32px;\n",
              "      padding: 0 0 0 0;\n",
              "      width: 32px;\n",
              "    }\n",
              "\n",
              "    .colab-df-convert:hover {\n",
              "      background-color: #E2EBFA;\n",
              "      box-shadow: 0px 1px 2px rgba(60, 64, 67, 0.3), 0px 1px 3px 1px rgba(60, 64, 67, 0.15);\n",
              "      fill: #174EA6;\n",
              "    }\n",
              "\n",
              "    .colab-df-buttons div {\n",
              "      margin-bottom: 4px;\n",
              "    }\n",
              "\n",
              "    [theme=dark] .colab-df-convert {\n",
              "      background-color: #3B4455;\n",
              "      fill: #D2E3FC;\n",
              "    }\n",
              "\n",
              "    [theme=dark] .colab-df-convert:hover {\n",
              "      background-color: #434B5C;\n",
              "      box-shadow: 0px 1px 3px 1px rgba(0, 0, 0, 0.15);\n",
              "      filter: drop-shadow(0px 1px 2px rgba(0, 0, 0, 0.3));\n",
              "      fill: #FFFFFF;\n",
              "    }\n",
              "  </style>\n",
              "\n",
              "    <script>\n",
              "      const buttonEl =\n",
              "        document.querySelector('#df-a2a1fec8-fda5-4c3a-b4d3-23cc4cff1b49 button.colab-df-convert');\n",
              "      buttonEl.style.display =\n",
              "        google.colab.kernel.accessAllowed ? 'block' : 'none';\n",
              "\n",
              "      async function convertToInteractive(key) {\n",
              "        const element = document.querySelector('#df-a2a1fec8-fda5-4c3a-b4d3-23cc4cff1b49');\n",
              "        const dataTable =\n",
              "          await google.colab.kernel.invokeFunction('convertToInteractive',\n",
              "                                                    [key], {});\n",
              "        if (!dataTable) return;\n",
              "\n",
              "        const docLinkHtml = 'Like what you see? Visit the ' +\n",
              "          '<a target=\"_blank\" href=https://colab.research.google.com/notebooks/data_table.ipynb>data table notebook</a>'\n",
              "          + ' to learn more about interactive tables.';\n",
              "        element.innerHTML = '';\n",
              "        dataTable['output_type'] = 'display_data';\n",
              "        await google.colab.output.renderOutput(dataTable, element);\n",
              "        const docLink = document.createElement('div');\n",
              "        docLink.innerHTML = docLinkHtml;\n",
              "        element.appendChild(docLink);\n",
              "      }\n",
              "    </script>\n",
              "  </div>\n",
              "\n",
              "\n",
              "<div id=\"df-b6e367ea-e735-42ba-b4f0-251a2a816f16\">\n",
              "  <button class=\"colab-df-quickchart\" onclick=\"quickchart('df-b6e367ea-e735-42ba-b4f0-251a2a816f16')\"\n",
              "            title=\"Suggest charts\"\n",
              "            style=\"display:none;\">\n",
              "\n",
              "<svg xmlns=\"http://www.w3.org/2000/svg\" height=\"24px\"viewBox=\"0 0 24 24\"\n",
              "     width=\"24px\">\n",
              "    <g>\n",
              "        <path d=\"M19 3H5c-1.1 0-2 .9-2 2v14c0 1.1.9 2 2 2h14c1.1 0 2-.9 2-2V5c0-1.1-.9-2-2-2zM9 17H7v-7h2v7zm4 0h-2V7h2v10zm4 0h-2v-4h2v4z\"/>\n",
              "    </g>\n",
              "</svg>\n",
              "  </button>\n",
              "\n",
              "<style>\n",
              "  .colab-df-quickchart {\n",
              "      --bg-color: #E8F0FE;\n",
              "      --fill-color: #1967D2;\n",
              "      --hover-bg-color: #E2EBFA;\n",
              "      --hover-fill-color: #174EA6;\n",
              "      --disabled-fill-color: #AAA;\n",
              "      --disabled-bg-color: #DDD;\n",
              "  }\n",
              "\n",
              "  [theme=dark] .colab-df-quickchart {\n",
              "      --bg-color: #3B4455;\n",
              "      --fill-color: #D2E3FC;\n",
              "      --hover-bg-color: #434B5C;\n",
              "      --hover-fill-color: #FFFFFF;\n",
              "      --disabled-bg-color: #3B4455;\n",
              "      --disabled-fill-color: #666;\n",
              "  }\n",
              "\n",
              "  .colab-df-quickchart {\n",
              "    background-color: var(--bg-color);\n",
              "    border: none;\n",
              "    border-radius: 50%;\n",
              "    cursor: pointer;\n",
              "    display: none;\n",
              "    fill: var(--fill-color);\n",
              "    height: 32px;\n",
              "    padding: 0;\n",
              "    width: 32px;\n",
              "  }\n",
              "\n",
              "  .colab-df-quickchart:hover {\n",
              "    background-color: var(--hover-bg-color);\n",
              "    box-shadow: 0 1px 2px rgba(60, 64, 67, 0.3), 0 1px 3px 1px rgba(60, 64, 67, 0.15);\n",
              "    fill: var(--button-hover-fill-color);\n",
              "  }\n",
              "\n",
              "  .colab-df-quickchart-complete:disabled,\n",
              "  .colab-df-quickchart-complete:disabled:hover {\n",
              "    background-color: var(--disabled-bg-color);\n",
              "    fill: var(--disabled-fill-color);\n",
              "    box-shadow: none;\n",
              "  }\n",
              "\n",
              "  .colab-df-spinner {\n",
              "    border: 2px solid var(--fill-color);\n",
              "    border-color: transparent;\n",
              "    border-bottom-color: var(--fill-color);\n",
              "    animation:\n",
              "      spin 1s steps(1) infinite;\n",
              "  }\n",
              "\n",
              "  @keyframes spin {\n",
              "    0% {\n",
              "      border-color: transparent;\n",
              "      border-bottom-color: var(--fill-color);\n",
              "      border-left-color: var(--fill-color);\n",
              "    }\n",
              "    20% {\n",
              "      border-color: transparent;\n",
              "      border-left-color: var(--fill-color);\n",
              "      border-top-color: var(--fill-color);\n",
              "    }\n",
              "    30% {\n",
              "      border-color: transparent;\n",
              "      border-left-color: var(--fill-color);\n",
              "      border-top-color: var(--fill-color);\n",
              "      border-right-color: var(--fill-color);\n",
              "    }\n",
              "    40% {\n",
              "      border-color: transparent;\n",
              "      border-right-color: var(--fill-color);\n",
              "      border-top-color: var(--fill-color);\n",
              "    }\n",
              "    60% {\n",
              "      border-color: transparent;\n",
              "      border-right-color: var(--fill-color);\n",
              "    }\n",
              "    80% {\n",
              "      border-color: transparent;\n",
              "      border-right-color: var(--fill-color);\n",
              "      border-bottom-color: var(--fill-color);\n",
              "    }\n",
              "    90% {\n",
              "      border-color: transparent;\n",
              "      border-bottom-color: var(--fill-color);\n",
              "    }\n",
              "  }\n",
              "</style>\n",
              "\n",
              "  <script>\n",
              "    async function quickchart(key) {\n",
              "      const quickchartButtonEl =\n",
              "        document.querySelector('#' + key + ' button');\n",
              "      quickchartButtonEl.disabled = true;  // To prevent multiple clicks.\n",
              "      quickchartButtonEl.classList.add('colab-df-spinner');\n",
              "      try {\n",
              "        const charts = await google.colab.kernel.invokeFunction(\n",
              "            'suggestCharts', [key], {});\n",
              "      } catch (error) {\n",
              "        console.error('Error during call to suggestCharts:', error);\n",
              "      }\n",
              "      quickchartButtonEl.classList.remove('colab-df-spinner');\n",
              "      quickchartButtonEl.classList.add('colab-df-quickchart-complete');\n",
              "    }\n",
              "    (() => {\n",
              "      let quickchartButtonEl =\n",
              "        document.querySelector('#df-b6e367ea-e735-42ba-b4f0-251a2a816f16 button');\n",
              "      quickchartButtonEl.style.display =\n",
              "        google.colab.kernel.accessAllowed ? 'block' : 'none';\n",
              "    })();\n",
              "  </script>\n",
              "</div>\n",
              "\n",
              "    </div>\n",
              "  </div>\n"
            ],
            "application/vnd.google.colaboratory.intrinsic+json": {
              "type": "dataframe",
              "variable_name": "data",
              "summary": "{\n  \"name\": \"data\",\n  \"rows\": 37155,\n  \"fields\": [\n    {\n      \"column\": \"game_id\",\n      \"properties\": {\n        \"dtype\": \"number\",\n        \"std\": 6110862,\n        \"min\": 2000090300,\n        \"max\": 2021020700,\n        \"num_unique_values\": 5583,\n        \"samples\": [\n          2014102605,\n          2018123004,\n          2000100807\n        ],\n        \"semantic_type\": \"\",\n        \"description\": \"\"\n      }\n    },\n    {\n      \"column\": \"Source\",\n      \"properties\": {\n        \"dtype\": \"number\",\n        \"std\": 0,\n        \"min\": 0,\n        \"max\": 1,\n        \"num_unique_values\": 2,\n        \"samples\": [\n          1,\n          0\n        ],\n        \"semantic_type\": \"\",\n        \"description\": \"\"\n      }\n    },\n    {\n      \"column\": \"DistanceToStation\",\n      \"properties\": {\n        \"dtype\": \"number\",\n        \"std\": 5.677736622791916,\n        \"min\": 0.19,\n        \"max\": 31.01,\n        \"num_unique_values\": 122,\n        \"samples\": [\n          3.29,\n          9.07\n        ],\n        \"semantic_type\": \"\",\n        \"description\": \"\"\n      }\n    },\n    {\n      \"column\": \"TimeMeasure\",\n      \"properties\": {\n        \"dtype\": \"object\",\n        \"num_unique_values\": 11338,\n        \"samples\": [\n          \"9/7/2003 15:00\",\n          \"10/15/2001 23:00\"\n        ],\n        \"semantic_type\": \"\",\n        \"description\": \"\"\n      }\n    },\n    {\n      \"column\": \"Temperature\",\n      \"properties\": {\n        \"dtype\": \"number\",\n        \"std\": 17.803386694659967,\n        \"min\": -13.0,\n        \"max\": 109.04,\n        \"num_unique_values\": 565,\n        \"samples\": [\n          21.74,\n          90.14\n        ],\n        \"semantic_type\": \"\",\n        \"description\": \"\"\n      }\n    },\n    {\n      \"column\": \"DewPoint\",\n      \"properties\": {\n        \"dtype\": \"number\",\n        \"std\": 17.128614705776414,\n        \"min\": -23.98,\n        \"max\": 80.42,\n        \"num_unique_values\": 561,\n        \"samples\": [\n          68.54,\n          73.58\n        ],\n        \"semantic_type\": \"\",\n        \"description\": \"\"\n      }\n    },\n    {\n      \"column\": \"Humidity\",\n      \"properties\": {\n        \"dtype\": \"number\",\n        \"std\": 20.1458868325081,\n        \"min\": 3.0,\n        \"max\": 100.0,\n        \"num_unique_values\": 100,\n        \"samples\": [\n          16.0,\n          35.0\n        ],\n        \"semantic_type\": \"\",\n        \"description\": \"\"\n      }\n    },\n    {\n      \"column\": \"Precipitation\",\n      \"properties\": {\n        \"dtype\": \"number\",\n        \"std\": 0.05932871850613967,\n        \"min\": 0.0,\n        \"max\": 9.988,\n        \"num_unique_values\": 95,\n        \"samples\": [\n          0.067,\n          0.13\n        ],\n        \"semantic_type\": \"\",\n        \"description\": \"\"\n      }\n    },\n    {\n      \"column\": \"WindSpeed\",\n      \"properties\": {\n        \"dtype\": \"number\",\n        \"std\": 5.3256822291648165,\n        \"min\": 0.0,\n        \"max\": 43.87,\n        \"num_unique_values\": 220,\n        \"samples\": [\n          5.78,\n          7.46\n        ],\n        \"semantic_type\": \"\",\n        \"description\": \"\"\n      }\n    },\n    {\n      \"column\": \"WindDirection\",\n      \"properties\": {\n        \"dtype\": \"number\",\n        \"std\": 93.87019833178944,\n        \"min\": 0.0,\n        \"max\": 359.0,\n        \"num_unique_values\": 327,\n        \"samples\": [\n          103.0,\n          178.0\n        ],\n        \"semantic_type\": \"\",\n        \"description\": \"\"\n      }\n    },\n    {\n      \"column\": \"Pressure\",\n      \"properties\": {\n        \"dtype\": \"number\",\n        \"std\": 0.3106740128491089,\n        \"min\": 24.05,\n        \"max\": 30.8529,\n        \"num_unique_values\": 1031,\n        \"samples\": [\n          29.8489,\n          30.1944\n        ],\n        \"semantic_type\": \"\",\n        \"description\": \"\"\n      }\n    },\n    {\n      \"column\": \"EstimatedCondition\",\n      \"properties\": {\n        \"dtype\": \"number\",\n        \"std\": 0,\n        \"min\": 0,\n        \"max\": 5,\n        \"num_unique_values\": 6,\n        \"samples\": [\n          0,\n          1\n        ],\n        \"semantic_type\": \"\",\n        \"description\": \"\"\n      }\n    }\n  ]\n}"
            }
          },
          "metadata": {},
          "execution_count": 10
        }
      ]
    },
    {
      "cell_type": "code",
      "source": [
        "import pandas as pd\n",
        "data['TimeMeasure'] = pd.to_datetime(data['TimeMeasure'])\n",
        "data['year'] = data['TimeMeasure'].dt.year\n",
        "data['month'] = data['TimeMeasure'].dt.month\n",
        "data['day'] = data['TimeMeasure'].dt.day\n",
        "data['hour'] = data['TimeMeasure'].dt.hour\n",
        "data['minute'] = data['TimeMeasure'].dt.minute\n",
        "data['second'] = data['TimeMeasure'].dt.second\n",
        "data.drop(columns=['TimeMeasure'], inplace=True)\n",
        "print(data.head())"
      ],
      "metadata": {
        "colab": {
          "base_uri": "https://localhost:8080/"
        },
        "id": "TSZoqj0Dr0Kk",
        "outputId": "4a65f32a-085d-4e4e-f089-77ecaa5b127a"
      },
      "execution_count": null,
      "outputs": [
        {
          "output_type": "stream",
          "name": "stdout",
          "text": [
            "      game_id  Source  DistanceToStation  Temperature  DewPoint  Humidity  \\\n",
            "0  2000090300       0               3.79        80.96     73.04      77.0   \n",
            "1  2000090300       0               3.79        80.96     73.04      77.0   \n",
            "2  2000090300       0               3.79        82.94     73.04      72.0   \n",
            "3  2000090300       0               3.79        80.06     74.12      82.0   \n",
            "4  2000090300       0               3.79        75.02     75.02     100.0   \n",
            "\n",
            "   Precipitation  WindSpeed  WindDirection  Pressure  EstimatedCondition  \\\n",
            "0          0.000       3.36          200.0   29.8902                   0   \n",
            "1          0.000       5.84          300.0   29.8784                   0   \n",
            "2          0.000       5.84          260.0   29.8696                   0   \n",
            "3          0.000       3.36          180.0   29.8578                   0   \n",
            "4          0.728       4.72          280.0   29.8519                   1   \n",
            "\n",
            "   year  month  day  hour  minute  second  \n",
            "0  2000      9    3    12       0       0  \n",
            "1  2000      9    3    13       0       0  \n",
            "2  2000      9    3    14       0       0  \n",
            "3  2000      9    3    15       0       0  \n",
            "4  2000      9    3    16       0       0  \n"
          ]
        }
      ]
    },
    {
      "cell_type": "code",
      "source": [
        "from sklearn.model_selection import train_test_split\n",
        "x = data.drop(columns=['game_id','EstimatedCondition'])\n",
        "y = data['EstimatedCondition']\n",
        "x_train, x_test, y_train, y_test = train_test_split(x, y, test_size=0.3, random_state=42)"
      ],
      "metadata": {
        "id": "HPudopRjqrdt"
      },
      "execution_count": null,
      "outputs": []
    },
    {
      "cell_type": "code",
      "source": [
        "x.columns"
      ],
      "metadata": {
        "colab": {
          "base_uri": "https://localhost:8080/"
        },
        "id": "8-vtYL0BsUwe",
        "outputId": "ce3e5014-43a5-4905-ef1a-c5fede7b1de9"
      },
      "execution_count": null,
      "outputs": [
        {
          "output_type": "execute_result",
          "data": {
            "text/plain": [
              "Index(['Source', 'DistanceToStation', 'Temperature', 'DewPoint', 'Humidity',\n",
              "       'Precipitation', 'WindSpeed', 'WindDirection', 'Pressure', 'year',\n",
              "       'month', 'day', 'hour', 'minute', 'second'],\n",
              "      dtype='object')"
            ]
          },
          "metadata": {},
          "execution_count": 13
        }
      ]
    },
    {
      "cell_type": "code",
      "source": [
        "y.value_counts()"
      ],
      "metadata": {
        "colab": {
          "base_uri": "https://localhost:8080/"
        },
        "id": "bzeJ2e5nq9L_",
        "outputId": "3d190765-a144-4e7f-e29e-777a2abdbb62"
      },
      "execution_count": null,
      "outputs": [
        {
          "output_type": "execute_result",
          "data": {
            "text/plain": [
              "EstimatedCondition\n",
              "0    34320\n",
              "2     2138\n",
              "3      347\n",
              "4      271\n",
              "1       68\n",
              "5       11\n",
              "Name: count, dtype: int64"
            ]
          },
          "metadata": {},
          "execution_count": 14
        }
      ]
    },
    {
      "cell_type": "code",
      "source": [
        "from sklearn.tree import DecisionTreeRegressor\n",
        "regressor = DecisionTreeRegressor(random_state = 0,max_depth=5)\n",
        "regressor.fit(x_train, y_train)\n",
        "Y_pred = regressor.predict(x_test)"
      ],
      "metadata": {
        "id": "ss5ipwb5rJDt"
      },
      "execution_count": null,
      "outputs": []
    },
    {
      "cell_type": "code",
      "source": [
        "from sklearn.metrics import confusion_matrix,accuracy_score,precision_score\n",
        "cm = confusion_matrix(y_test, Y_pred)\n",
        "print('confusion matrix',cm)\n",
        "ac=accuracy_score(y_test, Y_pred)\n",
        "print('accuracy',ac)"
      ],
      "metadata": {
        "colab": {
          "base_uri": "https://localhost:8080/"
        },
        "id": "qdU8e7PgrYi7",
        "outputId": "d3f244d6-bf01-4461-d5d3-64fdade4bcdd"
      },
      "execution_count": null,
      "outputs": [
        {
          "output_type": "stream",
          "name": "stdout",
          "text": [
            "confusion matrix [[10291     0     0     0     0     0]\n",
            " [    0    17     0     0     1     0]\n",
            " [    0     0   662     0     0     0]\n",
            " [    0     0     0   105     0     0]\n",
            " [    0     0     0     0    69     0]\n",
            " [    0     0     0     0     0     2]]\n",
            "accuracy 0.999910289764062\n"
          ]
        }
      ]
    },
    {
      "cell_type": "code",
      "source": [
        "from sklearn.tree import plot_tree\n",
        "import matplotlib.pyplot as plt\n",
        "\n",
        "plt.figure(figsize=(15, 10))\n",
        "plot_tree(regressor, filled=True, feature_names=x.columns)\n",
        "plt.show()\n"
      ],
      "metadata": {
        "colab": {
          "base_uri": "https://localhost:8080/",
          "height": 807
        },
        "id": "AvJ76BP75UD0",
        "outputId": "7367a367-abae-4c51-a438-53517a0bdc77"
      },
      "execution_count": null,
      "outputs": [
        {
          "output_type": "display_data",
          "data": {
            "text/plain": [
              "<Figure size 1500x1000 with 1 Axes>"
            ],
            "image/png": "[encoded data removed]"
          },
          "metadata": {}
        }
      ]
    },
    {
      "cell_type": "markdown",
      "source": [
        "Anamoly detection using Random Forest\n"
      ],
      "metadata": {
        "id": "Qjcc8szy2GcR"
      }
    },
    {
      "cell_type": "code",
      "source": [
        "!pip install kaggle"
      ],
      "metadata": {
        "colab": {
          "base_uri": "https://localhost:8080/"
        },
        "id": "QsdCzCyftZDu",
        "outputId": "678f75d0-52d9-457f-fe3e-d35f9f8ecc24"
      },
      "execution_count": null,
      "outputs": [
        {
          "output_type": "stream",
          "name": "stdout",
          "text": [
            "Requirement already satisfied: kaggle in /usr/local/lib/python3.10/dist-packages (1.6.14)\n",
            "Requirement already satisfied: six>=1.10 in /usr/local/lib/python3.10/dist-packages (from kaggle) (1.16.0)\n",
            "Requirement already satisfied: certifi>=2023.7.22 in /usr/local/lib/python3.10/dist-packages (from kaggle) (2024.6.2)\n",
            "Requirement already satisfied: python-dateutil in /usr/local/lib/python3.10/dist-packages (from kaggle) (2.8.2)\n",
            "Requirement already satisfied: requests in /usr/local/lib/python3.10/dist-packages (from kaggle) (2.31.0)\n",
            "Requirement already satisfied: tqdm in /usr/local/lib/python3.10/dist-packages (from kaggle) (4.66.4)\n",
            "Requirement already satisfied: python-slugify in /usr/local/lib/python3.10/dist-packages (from kaggle) (8.0.4)\n",
            "Requirement already satisfied: urllib3 in /usr/local/lib/python3.10/dist-packages (from kaggle) (2.0.7)\n",
            "Requirement already satisfied: bleach in /usr/local/lib/python3.10/dist-packages (from kaggle) (6.1.0)\n",
            "Requirement already satisfied: webencodings in /usr/local/lib/python3.10/dist-packages (from bleach->kaggle) (0.5.1)\n",
            "Requirement already satisfied: text-unidecode>=1.3 in /usr/local/lib/python3.10/dist-packages (from python-slugify->kaggle) (1.3)\n",
            "Requirement already satisfied: charset-normalizer<4,>=2 in /usr/local/lib/python3.10/dist-packages (from requests->kaggle) (3.3.2)\n",
            "Requirement already satisfied: idna<4,>=2.5 in /usr/local/lib/python3.10/dist-packages (from requests->kaggle) (3.7)\n"
          ]
        }
      ]
    },
    {
      "cell_type": "code",
      "source": [
        "!kaggle datasets download -d currie32/crimes-in-chicago"
      ],
      "metadata": {
        "colab": {
          "base_uri": "https://localhost:8080/"
        },
        "id": "1eYDcSrAtd1J",
        "outputId": "5028e39a-12d2-4e10-e8e2-6b2c3cde42e5"
      },
      "execution_count": null,
      "outputs": [
        {
          "output_type": "stream",
          "name": "stdout",
          "text": [
            "Dataset URL: https://www.kaggle.com/datasets/currie32/crimes-in-chicago\n",
            "License(s): unknown\n",
            "Downloading crimes-in-chicago.zip to /content\n",
            " 97% 454M/467M [00:07<00:00, 43.7MB/s]\n",
            "100% 467M/467M [00:07<00:00, 61.5MB/s]\n"
          ]
        }
      ]
    },
    {
      "cell_type": "code",
      "source": [
        "import zipfile\n",
        "with zipfile.ZipFile('crimes-in-chicago.zip', 'r') as zip_ref:\n",
        "    zip_ref.extractall('crimes-in-chicago')\n"
      ],
      "metadata": {
        "id": "HsdueR5Etvr0"
      },
      "execution_count": null,
      "outputs": []
    },
    {
      "cell_type": "code",
      "source": [
        "dataset=pd.read_csv(\"/content/crimes-in-chicago/Chicago_Crimes_2012_to_2017.csv\")"
      ],
      "metadata": {
        "id": "siHjmfG2u7Z6"
      },
      "execution_count": null,
      "outputs": []
    },
    {
      "cell_type": "code",
      "source": [
        "dataset.head()"
      ],
      "metadata": {
        "colab": {
          "base_uri": "https://localhost:8080/",
          "height": 446
        },
        "id": "pAPotIXmvJ3U",
        "outputId": "c866368f-ea13-4522-c471-0447aa346223"
      },
      "execution_count": null,
      "outputs": [
        {
          "output_type": "execute_result",
          "data": {
            "text/plain": [
              "   Unnamed: 0        ID Case Number                    Date  \\\n",
              "0           3  10508693    HZ250496  05/03/2016 11:40:00 PM   \n",
              "1          89  10508695    HZ250409  05/03/2016 09:40:00 PM   \n",
              "2         197  10508697    HZ250503  05/03/2016 11:31:00 PM   \n",
              "3         673  10508698    HZ250424  05/03/2016 10:10:00 PM   \n",
              "4         911  10508699    HZ250455  05/03/2016 10:00:00 PM   \n",
              "\n",
              "                 Block  IUCR            Primary Type              Description  \\\n",
              "0   013XX S SAWYER AVE  0486                 BATTERY  DOMESTIC BATTERY SIMPLE   \n",
              "1   061XX S DREXEL AVE  0486                 BATTERY  DOMESTIC BATTERY SIMPLE   \n",
              "2  053XX W CHICAGO AVE  0470  PUBLIC PEACE VIOLATION         RECKLESS CONDUCT   \n",
              "3    049XX W FULTON ST  0460                 BATTERY                   SIMPLE   \n",
              "4    003XX N LOTUS AVE  0820                   THEFT           $500 AND UNDER   \n",
              "\n",
              "  Location Description  Arrest  ...  Ward  Community Area  FBI Code  \\\n",
              "0            APARTMENT    True  ...  24.0            29.0       08B   \n",
              "1            RESIDENCE   False  ...  20.0            42.0       08B   \n",
              "2               STREET   False  ...  37.0            25.0        24   \n",
              "3             SIDEWALK   False  ...  28.0            25.0       08B   \n",
              "4            RESIDENCE   False  ...  28.0            25.0        06   \n",
              "\n",
              "   X Coordinate  Y Coordinate  Year              Updated On   Latitude  \\\n",
              "0     1154907.0     1893681.0  2016  05/10/2016 03:56:50 PM  41.864073   \n",
              "1     1183066.0     1864330.0  2016  05/10/2016 03:56:50 PM  41.782922   \n",
              "2     1140789.0     1904819.0  2016  05/10/2016 03:56:50 PM  41.894908   \n",
              "3     1143223.0     1901475.0  2016  05/10/2016 03:56:50 PM  41.885687   \n",
              "4     1139890.0     1901675.0  2016  05/10/2016 03:56:50 PM  41.886297   \n",
              "\n",
              "   Longitude                       Location  \n",
              "0 -87.706819  (41.864073157, -87.706818608)  \n",
              "1 -87.604363   (41.782921527, -87.60436317)  \n",
              "2 -87.758372  (41.894908283, -87.758371958)  \n",
              "3 -87.749516  (41.885686845, -87.749515983)  \n",
              "4 -87.761751  (41.886297242, -87.761750709)  \n",
              "\n",
              "[5 rows x 23 columns]"
            ],
            "text/html": [
              "\n",
              "  <div id=\"df-49bbb422-9ea5-45e2-9881-0cc7ac705c5b\" class=\"colab-df-container\">\n",
              "    <div>\n",
              "<style scoped>\n",
              "    .dataframe tbody tr th:only-of-type {\n",
              "        vertical-align: middle;\n",
              "    }\n",
              "\n",
              "    .dataframe tbody tr th {\n",
              "        vertical-align: top;\n",
              "    }\n",
              "\n",
              "    .dataframe thead th {\n",
              "        text-align: right;\n",
              "    }\n",
              "</style>\n",
              "<table border=\"1\" class=\"dataframe\">\n",
              "  <thead>\n",
              "    <tr style=\"text-align: right;\">\n",
              "      <th></th>\n",
              "      <th>Unnamed: 0</th>\n",
              "      <th>ID</th>\n",
              "      <th>Case Number</th>\n",
              "      <th>Date</th>\n",
              "      <th>Block</th>\n",
              "      <th>IUCR</th>\n",
              "      <th>Primary Type</th>\n",
              "      <th>Description</th>\n",
              "      <th>Location Description</th>\n",
              "      <th>Arrest</th>\n",
              "      <th>...</th>\n",
              "      <th>Ward</th>\n",
              "      <th>Community Area</th>\n",
              "      <th>FBI Code</th>\n",
              "      <th>X Coordinate</th>\n",
              "      <th>Y Coordinate</th>\n",
              "      <th>Year</th>\n",
              "      <th>Updated On</th>\n",
              "      <th>Latitude</th>\n",
              "      <th>Longitude</th>\n",
              "      <th>Location</th>\n",
              "    </tr>\n",
              "  </thead>\n",
              "  <tbody>\n",
              "    <tr>\n",
              "      <th>0</th>\n",
              "      <td>3</td>\n",
              "      <td>10508693</td>\n",
              "      <td>HZ250496</td>\n",
              "      <td>05/03/2016 11:40:00 PM</td>\n",
              "      <td>013XX S SAWYER AVE</td>\n",
              "      <td>0486</td>\n",
              "      <td>BATTERY</td>\n",
              "      <td>DOMESTIC BATTERY SIMPLE</td>\n",
              "      <td>APARTMENT</td>\n",
              "      <td>True</td>\n",
              "      <td>...</td>\n",
              "      <td>24.0</td>\n",
              "      <td>29.0</td>\n",
              "      <td>08B</td>\n",
              "      <td>1154907.0</td>\n",
              "      <td>1893681.0</td>\n",
              "      <td>2016</td>\n",
              "      <td>05/10/2016 03:56:50 PM</td>\n",
              "      <td>41.864073</td>\n",
              "      <td>-87.706819</td>\n",
              "      <td>(41.864073157, -87.706818608)</td>\n",
              "    </tr>\n",
              "    <tr>\n",
              "      <th>1</th>\n",
              "      <td>89</td>\n",
              "      <td>10508695</td>\n",
              "      <td>HZ250409</td>\n",
              "      <td>05/03/2016 09:40:00 PM</td>\n",
              "      <td>061XX S DREXEL AVE</td>\n",
              "      <td>0486</td>\n",
              "      <td>BATTERY</td>\n",
              "      <td>DOMESTIC BATTERY SIMPLE</td>\n",
              "      <td>RESIDENCE</td>\n",
              "      <td>False</td>\n",
              "      <td>...</td>\n",
              "      <td>20.0</td>\n",
              "      <td>42.0</td>\n",
              "      <td>08B</td>\n",
              "      <td>1183066.0</td>\n",
              "      <td>1864330.0</td>\n",
              "      <td>2016</td>\n",
              "      <td>05/10/2016 03:56:50 PM</td>\n",
              "      <td>41.782922</td>\n",
              "      <td>-87.604363</td>\n",
              "      <td>(41.782921527, -87.60436317)</td>\n",
              "    </tr>\n",
              "    <tr>\n",
              "      <th>2</th>\n",
              "      <td>197</td>\n",
              "      <td>10508697</td>\n",
              "      <td>HZ250503</td>\n",
              "      <td>05/03/2016 11:31:00 PM</td>\n",
              "      <td>053XX W CHICAGO AVE</td>\n",
              "      <td>0470</td>\n",
              "      <td>PUBLIC PEACE VIOLATION</td>\n",
              "      <td>RECKLESS CONDUCT</td>\n",
              "      <td>STREET</td>\n",
              "      <td>False</td>\n",
              "      <td>...</td>\n",
              "      <td>37.0</td>\n",
              "      <td>25.0</td>\n",
              "      <td>24</td>\n",
              "      <td>1140789.0</td>\n",
              "      <td>1904819.0</td>\n",
              "      <td>2016</td>\n",
              "      <td>05/10/2016 03:56:50 PM</td>\n",
              "      <td>41.894908</td>\n",
              "      <td>-87.758372</td>\n",
              "      <td>(41.894908283, -87.758371958)</td>\n",
              "    </tr>\n",
              "    <tr>\n",
              "      <th>3</th>\n",
              "      <td>673</td>\n",
              "      <td>10508698</td>\n",
              "      <td>HZ250424</td>\n",
              "      <td>05/03/2016 10:10:00 PM</td>\n",
              "      <td>049XX W FULTON ST</td>\n",
              "      <td>0460</td>\n",
              "      <td>BATTERY</td>\n",
              "      <td>SIMPLE</td>\n",
              "      <td>SIDEWALK</td>\n",
              "      <td>False</td>\n",
              "      <td>...</td>\n",
              "      <td>28.0</td>\n",
              "      <td>25.0</td>\n",
              "      <td>08B</td>\n",
              "      <td>1143223.0</td>\n",
              "      <td>1901475.0</td>\n",
              "      <td>2016</td>\n",
              "      <td>05/10/2016 03:56:50 PM</td>\n",
              "      <td>41.885687</td>\n",
              "      <td>-87.749516</td>\n",
              "      <td>(41.885686845, -87.749515983)</td>\n",
              "    </tr>\n",
              "    <tr>\n",
              "      <th>4</th>\n",
              "      <td>911</td>\n",
              "      <td>10508699</td>\n",
              "      <td>HZ250455</td>\n",
              "      <td>05/03/2016 10:00:00 PM</td>\n",
              "      <td>003XX N LOTUS AVE</td>\n",
              "      <td>0820</td>\n",
              "      <td>THEFT</td>\n",
              "      <td>$500 AND UNDER</td>\n",
              "      <td>RESIDENCE</td>\n",
              "      <td>False</td>\n",
              "      <td>...</td>\n",
              "      <td>28.0</td>\n",
              "      <td>25.0</td>\n",
              "      <td>06</td>\n",
              "      <td>1139890.0</td>\n",
              "      <td>1901675.0</td>\n",
              "      <td>2016</td>\n",
              "      <td>05/10/2016 03:56:50 PM</td>\n",
              "      <td>41.886297</td>\n",
              "      <td>-87.761751</td>\n",
              "      <td>(41.886297242, -87.761750709)</td>\n",
              "    </tr>\n",
              "  </tbody>\n",
              "</table>\n",
              "<p>5 rows × 23 columns</p>\n",
              "</div>\n",
              "    <div class=\"colab-df-buttons\">\n",
              "\n",
              "  <div class=\"colab-df-container\">\n",
              "    <button class=\"colab-df-convert\" onclick=\"convertToInteractive('df-49bbb422-9ea5-45e2-9881-0cc7ac705c5b')\"\n",
              "            title=\"Convert this dataframe to an interactive table.\"\n",
              "            style=\"display:none;\">\n",
              "\n",
              "  <svg xmlns=\"http://www.w3.org/2000/svg\" height=\"24px\" viewBox=\"0 -960 960 960\">\n",
              "    <path d=\"M120-120v-720h720v720H120Zm60-500h600v-160H180v160Zm220 220h160v-160H400v160Zm0 220h160v-160H400v160ZM180-400h160v-160H180v160Zm440 0h160v-160H620v160ZM180-180h160v-160H180v160Zm440 0h160v-160H620v160Z\"/>\n",
              "  </svg>\n",
              "    </button>\n",
              "\n",
              "  <style>\n",
              "    .colab-df-container {\n",
              "      display:flex;\n",
              "      gap: 12px;\n",
              "    }\n",
              "\n",
              "    .colab-df-convert {\n",
              "      background-color: #E8F0FE;\n",
              "      border: none;\n",
              "      border-radius: 50%;\n",
              "      cursor: pointer;\n",
              "      display: none;\n",
              "      fill: #1967D2;\n",
              "      height: 32px;\n",
              "      padding: 0 0 0 0;\n",
              "      width: 32px;\n",
              "    }\n",
              "\n",
              "    .colab-df-convert:hover {\n",
              "      background-color: #E2EBFA;\n",
              "      box-shadow: 0px 1px 2px rgba(60, 64, 67, 0.3), 0px 1px 3px 1px rgba(60, 64, 67, 0.15);\n",
              "      fill: #174EA6;\n",
              "    }\n",
              "\n",
              "    .colab-df-buttons div {\n",
              "      margin-bottom: 4px;\n",
              "    }\n",
              "\n",
              "    [theme=dark] .colab-df-convert {\n",
              "      background-color: #3B4455;\n",
              "      fill: #D2E3FC;\n",
              "    }\n",
              "\n",
              "    [theme=dark] .colab-df-convert:hover {\n",
              "      background-color: #434B5C;\n",
              "      box-shadow: 0px 1px 3px 1px rgba(0, 0, 0, 0.15);\n",
              "      filter: drop-shadow(0px 1px 2px rgba(0, 0, 0, 0.3));\n",
              "      fill: #FFFFFF;\n",
              "    }\n",
              "  </style>\n",
              "\n",
              "    <script>\n",
              "      const buttonEl =\n",
              "        document.querySelector('#df-49bbb422-9ea5-45e2-9881-0cc7ac705c5b button.colab-df-convert');\n",
              "      buttonEl.style.display =\n",
              "        google.colab.kernel.accessAllowed ? 'block' : 'none';\n",
              "\n",
              "      async function convertToInteractive(key) {\n",
              "        const element = document.querySelector('#df-49bbb422-9ea5-45e2-9881-0cc7ac705c5b');\n",
              "        const dataTable =\n",
              "          await google.colab.kernel.invokeFunction('convertToInteractive',\n",
              "                                                    [key], {});\n",
              "        if (!dataTable) return;\n",
              "\n",
              "        const docLinkHtml = 'Like what you see? Visit the ' +\n",
              "          '<a target=\"_blank\" href=https://colab.research.google.com/notebooks/data_table.ipynb>data table notebook</a>'\n",
              "          + ' to learn more about interactive tables.';\n",
              "        element.innerHTML = '';\n",
              "        dataTable['output_type'] = 'display_data';\n",
              "        await google.colab.output.renderOutput(dataTable, element);\n",
              "        const docLink = document.createElement('div');\n",
              "        docLink.innerHTML = docLinkHtml;\n",
              "        element.appendChild(docLink);\n",
              "      }\n",
              "    </script>\n",
              "  </div>\n",
              "\n",
              "\n",
              "<div id=\"df-dfc2325f-4ec1-4107-9687-74332672d1c4\">\n",
              "  <button class=\"colab-df-quickchart\" onclick=\"quickchart('df-dfc2325f-4ec1-4107-9687-74332672d1c4')\"\n",
              "            title=\"Suggest charts\"\n",
              "            style=\"display:none;\">\n",
              "\n",
              "<svg xmlns=\"http://www.w3.org/2000/svg\" height=\"24px\"viewBox=\"0 0 24 24\"\n",
              "     width=\"24px\">\n",
              "    <g>\n",
              "        <path d=\"M19 3H5c-1.1 0-2 .9-2 2v14c0 1.1.9 2 2 2h14c1.1 0 2-.9 2-2V5c0-1.1-.9-2-2-2zM9 17H7v-7h2v7zm4 0h-2V7h2v10zm4 0h-2v-4h2v4z\"/>\n",
              "    </g>\n",
              "</svg>\n",
              "  </button>\n",
              "\n",
              "<style>\n",
              "  .colab-df-quickchart {\n",
              "      --bg-color: #E8F0FE;\n",
              "      --fill-color: #1967D2;\n",
              "      --hover-bg-color: #E2EBFA;\n",
              "      --hover-fill-color: #174EA6;\n",
              "      --disabled-fill-color: #AAA;\n",
              "      --disabled-bg-color: #DDD;\n",
              "  }\n",
              "\n",
              "  [theme=dark] .colab-df-quickchart {\n",
              "      --bg-color: #3B4455;\n",
              "      --fill-color: #D2E3FC;\n",
              "      --hover-bg-color: #434B5C;\n",
              "      --hover-fill-color: #FFFFFF;\n",
              "      --disabled-bg-color: #3B4455;\n",
              "      --disabled-fill-color: #666;\n",
              "  }\n",
              "\n",
              "  .colab-df-quickchart {\n",
              "    background-color: var(--bg-color);\n",
              "    border: none;\n",
              "    border-radius: 50%;\n",
              "    cursor: pointer;\n",
              "    display: none;\n",
              "    fill: var(--fill-color);\n",
              "    height: 32px;\n",
              "    padding: 0;\n",
              "    width: 32px;\n",
              "  }\n",
              "\n",
              "  .colab-df-quickchart:hover {\n",
              "    background-color: var(--hover-bg-color);\n",
              "    box-shadow: 0 1px 2px rgba(60, 64, 67, 0.3), 0 1px 3px 1px rgba(60, 64, 67, 0.15);\n",
              "    fill: var(--button-hover-fill-color);\n",
              "  }\n",
              "\n",
              "  .colab-df-quickchart-complete:disabled,\n",
              "  .colab-df-quickchart-complete:disabled:hover {\n",
              "    background-color: var(--disabled-bg-color);\n",
              "    fill: var(--disabled-fill-color);\n",
              "    box-shadow: none;\n",
              "  }\n",
              "\n",
              "  .colab-df-spinner {\n",
              "    border: 2px solid var(--fill-color);\n",
              "    border-color: transparent;\n",
              "    border-bottom-color: var(--fill-color);\n",
              "    animation:\n",
              "      spin 1s steps(1) infinite;\n",
              "  }\n",
              "\n",
              "  @keyframes spin {\n",
              "    0% {\n",
              "      border-color: transparent;\n",
              "      border-bottom-color: var(--fill-color);\n",
              "      border-left-color: var(--fill-color);\n",
              "    }\n",
              "    20% {\n",
              "      border-color: transparent;\n",
              "      border-left-color: var(--fill-color);\n",
              "      border-top-color: var(--fill-color);\n",
              "    }\n",
              "    30% {\n",
              "      border-color: transparent;\n",
              "      border-left-color: var(--fill-color);\n",
              "      border-top-color: var(--fill-color);\n",
              "      border-right-color: var(--fill-color);\n",
              "    }\n",
              "    40% {\n",
              "      border-color: transparent;\n",
              "      border-right-color: var(--fill-color);\n",
              "      border-top-color: var(--fill-color);\n",
              "    }\n",
              "    60% {\n",
              "      border-color: transparent;\n",
              "      border-right-color: var(--fill-color);\n",
              "    }\n",
              "    80% {\n",
              "      border-color: transparent;\n",
              "      border-right-color: var(--fill-color);\n",
              "      border-bottom-color: var(--fill-color);\n",
              "    }\n",
              "    90% {\n",
              "      border-color: transparent;\n",
              "      border-bottom-color: var(--fill-color);\n",
              "    }\n",
              "  }\n",
              "</style>\n",
              "\n",
              "  <script>\n",
              "    async function quickchart(key) {\n",
              "      const quickchartButtonEl =\n",
              "        document.querySelector('#' + key + ' button');\n",
              "      quickchartButtonEl.disabled = true;  // To prevent multiple clicks.\n",
              "      quickchartButtonEl.classList.add('colab-df-spinner');\n",
              "      try {\n",
              "        const charts = await google.colab.kernel.invokeFunction(\n",
              "            'suggestCharts', [key], {});\n",
              "      } catch (error) {\n",
              "        console.error('Error during call to suggestCharts:', error);\n",
              "      }\n",
              "      quickchartButtonEl.classList.remove('colab-df-spinner');\n",
              "      quickchartButtonEl.classList.add('colab-df-quickchart-complete');\n",
              "    }\n",
              "    (() => {\n",
              "      let quickchartButtonEl =\n",
              "        document.querySelector('#df-dfc2325f-4ec1-4107-9687-74332672d1c4 button');\n",
              "      quickchartButtonEl.style.display =\n",
              "        google.colab.kernel.accessAllowed ? 'block' : 'none';\n",
              "    })();\n",
              "  </script>\n",
              "</div>\n",
              "\n",
              "    </div>\n",
              "  </div>\n"
            ],
            "application/vnd.google.colaboratory.intrinsic+json": {
              "type": "dataframe",
              "variable_name": "dataset"
            }
          },
          "metadata": {},
          "execution_count": 22
        }
      ]
    },
    {
      "cell_type": "code",
      "source": [
        "dataset.columns"
      ],
      "metadata": {
        "colab": {
          "base_uri": "https://localhost:8080/"
        },
        "id": "3xCM6u6RvM3Y",
        "outputId": "3a1ecd14-f145-4a9a-ead0-d297e512f06d"
      },
      "execution_count": null,
      "outputs": [
        {
          "output_type": "execute_result",
          "data": {
            "text/plain": [
              "Index(['Unnamed: 0', 'ID', 'Case Number', 'Date', 'Block', 'IUCR',\n",
              "       'Primary Type', 'Description', 'Location Description', 'Arrest',\n",
              "       'Domestic', 'Beat', 'District', 'Ward', 'Community Area', 'FBI Code',\n",
              "       'X Coordinate', 'Y Coordinate', 'Year', 'Updated On', 'Latitude',\n",
              "       'Longitude', 'Location'],\n",
              "      dtype='object')"
            ]
          },
          "metadata": {},
          "execution_count": 23
        }
      ]
    },
    {
      "cell_type": "code",
      "source": [
        "import missingno as msno\n",
        "dataset.isnull().sum()"
      ],
      "metadata": {
        "colab": {
          "base_uri": "https://localhost:8080/"
        },
        "id": "W1-XWpNsvRvq",
        "outputId": "6ddd4979-092a-4b8e-c94a-7aeb38b053e7"
      },
      "execution_count": null,
      "outputs": [
        {
          "output_type": "execute_result",
          "data": {
            "text/plain": [
              "Unnamed: 0                  0\n",
              "ID                          0\n",
              "Case Number                 1\n",
              "Date                        0\n",
              "Block                       0\n",
              "IUCR                        0\n",
              "Primary Type                0\n",
              "Description                 0\n",
              "Location Description     1658\n",
              "Arrest                      0\n",
              "Domestic                    0\n",
              "Beat                        0\n",
              "District                    1\n",
              "Ward                       14\n",
              "Community Area             40\n",
              "FBI Code                    0\n",
              "X Coordinate            37083\n",
              "Y Coordinate            37083\n",
              "Year                        0\n",
              "Updated On                  0\n",
              "Latitude                37083\n",
              "Longitude               37083\n",
              "Location                37083\n",
              "dtype: int64"
            ]
          },
          "metadata": {},
          "execution_count": 24
        }
      ]
    },
    {
      "cell_type": "code",
      "source": [
        "\n",
        "dataset.select_dtypes(include=(['int64','float64'])).isna().sum()\n",
        "df_num_col=dataset.select_dtypes(include=(['int64','float64'])).columns\n",
        "for c in df_num_col:\n",
        "  dataset[c].fillna(dataset[c].mean(),inplace=True)\n",
        "dataset.select_dtypes(include=(['int64','float64'])).isna().sum()"
      ],
      "metadata": {
        "colab": {
          "base_uri": "https://localhost:8080/"
        },
        "id": "8JyeVLEBvX4x",
        "outputId": "13725f78-7e37-4b57-b2ed-05fb223e3b0b"
      },
      "execution_count": null,
      "outputs": [
        {
          "output_type": "execute_result",
          "data": {
            "text/plain": [
              "Unnamed: 0        0\n",
              "ID                0\n",
              "Beat              0\n",
              "District          0\n",
              "Ward              0\n",
              "Community Area    0\n",
              "X Coordinate      0\n",
              "Y Coordinate      0\n",
              "Year              0\n",
              "Latitude          0\n",
              "Longitude         0\n",
              "dtype: int64"
            ]
          },
          "metadata": {},
          "execution_count": 25
        }
      ]
    },
    {
      "cell_type": "code",
      "source": [
        "\n",
        "dataset.select_dtypes(include=(['object'])).isna().sum()\n",
        "df_num_col=dataset.select_dtypes(include=(['object'])).columns\n",
        "for c in df_num_col:\n",
        "  dataset[c].fillna(dataset[c].mode().values[0],inplace=True)\n",
        "dataset.select_dtypes(include=(['object'])).isna().sum()"
      ],
      "metadata": {
        "colab": {
          "base_uri": "https://localhost:8080/"
        },
        "id": "FFQXEJTnwGm3",
        "outputId": "53943681-f7e9-471e-a608-0745e165c3f0"
      },
      "execution_count": null,
      "outputs": [
        {
          "output_type": "execute_result",
          "data": {
            "text/plain": [
              "Case Number             0\n",
              "Date                    0\n",
              "Block                   0\n",
              "IUCR                    0\n",
              "Primary Type            0\n",
              "Description             0\n",
              "Location Description    0\n",
              "FBI Code                0\n",
              "Updated On              0\n",
              "Location                0\n",
              "dtype: int64"
            ]
          },
          "metadata": {},
          "execution_count": 26
        }
      ]
    },
    {
      "cell_type": "code",
      "source": [
        "from sklearn.preprocessing import LabelEncoder\n",
        "label_encoder = LabelEncoder()\n",
        "dataset['Primary Type'] = label_encoder.fit_transform(dataset['Primary Type'])\n",
        "dataset['Location Description'] = label_encoder.fit_transform(dataset['Location Description'])\n",
        "dataset['Description'] = label_encoder.fit_transform(dataset['Description'])\n",
        "dataset['Case Number'] = label_encoder.fit_transform(dataset['Case Number'])\n",
        "dataset['Block'] = label_encoder.fit_transform(dataset['Block'])\n",
        "dataset['IUCR'] = label_encoder.fit_transform(dataset['IUCR'])\n",
        "dataset['FBI Code'] = label_encoder.fit_transform(dataset['FBI Code'])\n",
        "dataset['Location'] = label_encoder.fit_transform(dataset['Location'])"
      ],
      "metadata": {
        "id": "PYMdHZ6HwS9t"
      },
      "execution_count": null,
      "outputs": []
    },
    {
      "source": [
        "#dataset.drop(columns=['Updated On'], inplace=True)\n",
        "#dataset.drop(columns=['Unnamed: 0'], inplace=True)\n",
        "#dataset.drop(columns=['Date'],inplace=True)\n",
        "print(dataset.head(2))"
      ],
      "cell_type": "code",
      "metadata": {
        "colab": {
          "base_uri": "https://localhost:8080/"
        },
        "id": "owSdZRgdym2d",
        "outputId": "9b65d77d-6339-4916-ff29-534c27c6c45e"
      },
      "execution_count": null,
      "outputs": [
        {
          "output_type": "stream",
          "name": "stdout",
          "text": [
            "         ID  Case Number  Block  IUCR  Primary Type  Description  \\\n",
            "0  10508693      1259930   6521    51             2          120   \n",
            "1  10508695      1259874  24531    51             2          120   \n",
            "\n",
            "   Location Description  Arrest  Domestic  Beat  District  Ward  \\\n",
            "0                    17    True      True  1022      10.0  24.0   \n",
            "1                   111   False      True   313       3.0  20.0   \n",
            "\n",
            "   Community Area  FBI Code  X Coordinate  Y Coordinate  Year   Latitude  \\\n",
            "0            29.0        10     1154907.0     1893681.0  2016  41.864073   \n",
            "1            42.0        10     1183066.0     1864330.0  2016  41.782922   \n",
            "\n",
            "   Longitude  Location  \n",
            "0 -87.706819    192925  \n",
            "1 -87.604363    118610  \n"
          ]
        }
      ]
    },
    {
      "cell_type": "code",
      "source": [
        "dataset.columns"
      ],
      "metadata": {
        "colab": {
          "base_uri": "https://localhost:8080/"
        },
        "id": "hppCc5-N0deh",
        "outputId": "2dc0af6a-9626-4215-f9a3-3f627e99621c"
      },
      "execution_count": null,
      "outputs": [
        {
          "output_type": "execute_result",
          "data": {
            "text/plain": [
              "Index(['ID', 'Case Number', 'Block', 'IUCR', 'Primary Type', 'Description',\n",
              "       'Location Description', 'Arrest', 'Domestic', 'Beat', 'District',\n",
              "       'Ward', 'Community Area', 'FBI Code', 'X Coordinate', 'Y Coordinate',\n",
              "       'Year', 'Latitude', 'Longitude', 'Location'],\n",
              "      dtype='object')"
            ]
          },
          "metadata": {},
          "execution_count": 35
        }
      ]
    },
    {
      "source": [
        "from sklearn.model_selection import train_test_split\n",
        "x = dataset[['ID', 'Case Number', 'Block', 'IUCR', 'Primary Type', 'Description',\n",
        "       'Location Description', 'Domestic', 'Beat', 'District',\n",
        "       'Ward', 'Community Area', 'FBI Code', 'X Coordinate', 'Y Coordinate',\n",
        "       'Year', 'Latitude', 'Longitude', 'Location']]\n",
        "y = dataset['Arrest']\n",
        "x_train, x_test, y_train, y_test = train_test_split(x, y, test_size=0.3, random_state=42)"
      ],
      "cell_type": "code",
      "metadata": {
        "id": "XkxzdM_904xL"
      },
      "execution_count": null,
      "outputs": []
    },
    {
      "cell_type": "code",
      "source": [
        "from sklearn.ensemble import RandomForestClassifier\n",
        "classifier = RandomForestClassifier(n_estimators = 10, criterion = 'entropy', random_state = 42)\n",
        "classifier.fit(x_train, y_train)\n",
        "y_pred = classifier.predict(x_test)"
      ],
      "metadata": {
        "id": "r6oGLWVd09xc"
      },
      "execution_count": null,
      "outputs": []
    },
    {
      "cell_type": "code",
      "source": [
        "from sklearn.metrics import confusion_matrix,accuracy_score,precision_score\n",
        "cm = confusion_matrix(y_test, y_pred)\n",
        "print('confusion matrix',cm)\n",
        "ac=accuracy_score(y_test, y_pred)\n",
        "print('accuracy',ac)\n"
      ],
      "metadata": {
        "colab": {
          "base_uri": "https://localhost:8080/"
        },
        "id": "8SShgsdF1RmB",
        "outputId": "9fe1315c-2a39-4bbe-c798-37f68ebf6958"
      },
      "execution_count": null,
      "outputs": [
        {
          "output_type": "stream",
          "name": "stdout",
          "text": [
            "confusion matrix [[312666  11083]\n",
            " [ 38736  74530]]\n",
            "accuracy 0.8860016246581925\n"
          ]
        }
      ]
    },
    {
      "source": [
        "from sklearn.metrics import roc_curve, auc\n",
        "from sklearn.preprocessing import label_binarize\n",
        "import numpy as np\n",
        "from sklearn.multiclass import OneVsRestClassifier\n",
        "\n",
        "y_score = classifier.predict_proba(x_test)[:, 1]\n",
        "n_classes = len(np.unique(y))\n",
        "\n",
        "fpr = dict()\n",
        "tpr = dict()\n",
        "roc_auc = dict()\n",
        "\n",
        "# Treat this as a binary classification problem\n",
        "fpr[0], tpr[0], _ = roc_curve(y_test, y_score)\n",
        "roc_auc[0] = auc(fpr[0], tpr[0])\n",
        "\n",
        "plt.figure(figsize=(10, 8))\n",
        "\n",
        "plt.plot(fpr[0], tpr[0], label='ROC curve (area = {0:0.2f})'\n",
        "                               .format(roc_auc[0]))\n",
        "\n",
        "plt.plot([0, 1], [0, 1], 'k--', linewidth=2)\n",
        "plt.xlim([0.0, 1.0])\n",
        "plt.ylim([0.0, 1.05])\n",
        "plt.xlabel('False Positive Rate')\n",
        "plt.ylabel('True Positive Rate')\n",
        "plt.title('Receiver Operating Characteristic (ROC) Curve')\n",
        "plt.legend(loc=\"lower right\")\n",
        "plt.show()"
      ],
      "cell_type": "code",
      "metadata": {
        "colab": {
          "base_uri": "https://localhost:8080/",
          "height": 718
        },
        "id": "4C1uEZvy2vaH",
        "outputId": "810ff39b-8b4f-44c0-be2c-65d2a82390a5"
      },
      "execution_count": null,
      "outputs": [
        {
          "output_type": "display_data",
          "data": {
            "text/plain": [
              "<Figure size 1000x800 with 1 Axes>"
            ],
            "image/png": "[encoded data removed]"
          },
          "metadata": {}
        }
      ]
    }
  ]
}